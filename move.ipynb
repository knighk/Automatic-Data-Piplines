{
 "cells": [
  {
   "cell_type": "code",
   "execution_count": 9,
   "metadata": {
    "collapsed": false
   },
   "outputs": [
    {
     "name": "stdout",
     "output_type": "stream",
     "text": [
      "Found 4 items\n",
      "drwxr-xr-x   - kke1 hdfs          0 2018-08-11 21:37 /data/sec/2008\n",
      "drwxr-xr-x   - kke1 hdfs          0 2018-08-13 08:23 /data/sec/2009\n",
      "drwxr-xr-x   - kke1 hdfs          0 2018-08-16 12:30 /data/sec/2010\n",
      "drwxr-xr-x   - kke1 hdfs          0 2018-08-24 00:59 /data/sec/2017\n"
     ]
    }
   ],
   "source": [
    "%%bash\n",
    "hadoop fs -ls /data/sec"
   ]
  },
  {
   "cell_type": "code",
   "execution_count": 62,
   "metadata": {
    "collapsed": true
   },
   "outputs": [],
   "source": [
    "%%bash\n",
    "hadoop fs -mkdir /data/sec/2014"
   ]
  },
  {
   "cell_type": "code",
   "execution_count": 71,
   "metadata": {
    "collapsed": false
   },
   "outputs": [
    {
     "name": "stdout",
     "output_type": "stream",
     "text": [
      "Found 4 items\n",
      "drwxr-xr-x   - kke1 hdfs          0 2018-09-02 10:39 /data/sec/2014/QTR1\n",
      "drwxr-xr-x   - kke1 hdfs          0 2018-09-02 17:33 /data/sec/2014/QTR2\n",
      "drwxr-xr-x   - kke1 hdfs          0 2018-09-03 00:43 /data/sec/2014/QTR3\n",
      "drwxr-xr-x   - kke1 hdfs          0 2018-09-03 09:49 /data/sec/2014/QTR4\n"
     ]
    }
   ],
   "source": [
    "%%bash\n",
    "hadoop fs -ls /data/sec/2014"
   ]
  },
  {
   "cell_type": "code",
   "execution_count": 51,
   "metadata": {
    "collapsed": false
   },
   "outputs": [
    {
     "name": "stderr",
     "output_type": "stream",
     "text": [
      "rm: `/data/sec/2013/QTR1': No such file or directory\n"
     ]
    }
   ],
   "source": [
    "%%bash\n",
    "hadoop fs -rm -r /data/sec/2013/QTR1"
   ]
  },
  {
   "cell_type": "code",
   "execution_count": 11,
   "metadata": {
    "collapsed": false
   },
   "outputs": [
    {
     "name": "stdout",
     "output_type": "stream",
     "text": [
      "Found 1 items\n",
      "drwxr-xr-x   - kke1 hdfs          0 2018-08-24 01:39 /data/sec/2017/QTR3\n"
     ]
    },
    {
     "name": "stderr",
     "output_type": "stream",
     "text": [
      "mkdir: `/data/sec/2017/QTR3': File exists\n"
     ]
    }
   ],
   "source": [
    "%%bash\n",
    "hadoop fs -mkdir /data/sec/2017/QTR3\n",
    "hadoop fs -ls /data/sec/2017"
   ]
  },
  {
   "cell_type": "code",
   "execution_count": 70,
   "metadata": {
    "collapsed": false
   },
   "outputs": [],
   "source": [
    "%%bash\n",
    "cd /home/kke1/data/sec/2014\n",
    "hadoop fs -put QTR4 /data/sec/2014/"
   ]
  },
  {
   "cell_type": "code",
   "execution_count": 46,
   "metadata": {
    "collapsed": false
   },
   "outputs": [
    {
     "name": "stdout",
     "output_type": "stream",
     "text": [
      "QTR1\n",
      "QTR2\n"
     ]
    }
   ],
   "source": [
    "%%bash\n",
    "ls /home/kke1/data/sec/2013"
   ]
  },
  {
   "cell_type": "code",
   "execution_count": null,
   "metadata": {
    "collapsed": true
   },
   "outputs": [],
   "source": []
  }
 ],
 "metadata": {
  "kernelspec": {
   "display_name": "Python 2",
   "language": "python",
   "name": "python2"
  },
  "language_info": {
   "codemirror_mode": {
    "name": "ipython",
    "version": 2
   },
   "file_extension": ".py",
   "mimetype": "text/x-python",
   "name": "python",
   "nbconvert_exporter": "python",
   "pygments_lexer": "ipython2",
   "version": "2.7.5"
  }
 },
 "nbformat": 4,
 "nbformat_minor": 2
}
